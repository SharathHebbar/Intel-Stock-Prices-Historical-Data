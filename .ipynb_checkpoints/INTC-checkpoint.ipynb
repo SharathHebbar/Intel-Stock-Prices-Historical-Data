{
 "cells": [
  {
   "cell_type": "code",
   "execution_count": 1,
   "id": "0d4a782c",
   "metadata": {},
   "outputs": [],
   "source": [
    "import pandas as pd\n",
    "import numpy as np"
   ]
  },
  {
   "cell_type": "code",
   "execution_count": 2,
   "id": "04dcb84f",
   "metadata": {},
   "outputs": [
    {
     "data": {
      "text/html": [
       "<div>\n",
       "<style scoped>\n",
       "    .dataframe tbody tr th:only-of-type {\n",
       "        vertical-align: middle;\n",
       "    }\n",
       "\n",
       "    .dataframe tbody tr th {\n",
       "        vertical-align: top;\n",
       "    }\n",
       "\n",
       "    .dataframe thead th {\n",
       "        text-align: right;\n",
       "    }\n",
       "</style>\n",
       "<table border=\"1\" class=\"dataframe\">\n",
       "  <thead>\n",
       "    <tr style=\"text-align: right;\">\n",
       "      <th></th>\n",
       "      <th>Date</th>\n",
       "      <th>Open</th>\n",
       "      <th>High</th>\n",
       "      <th>Low</th>\n",
       "      <th>Close</th>\n",
       "      <th>Adj Close</th>\n",
       "      <th>Volume</th>\n",
       "    </tr>\n",
       "  </thead>\n",
       "  <tbody>\n",
       "    <tr>\n",
       "      <th>0</th>\n",
       "      <td>1980-03-17</td>\n",
       "      <td>0.325521</td>\n",
       "      <td>0.330729</td>\n",
       "      <td>0.325521</td>\n",
       "      <td>0.325521</td>\n",
       "      <td>0.199557</td>\n",
       "      <td>10924800</td>\n",
       "    </tr>\n",
       "    <tr>\n",
       "      <th>1</th>\n",
       "      <td>1980-03-18</td>\n",
       "      <td>0.325521</td>\n",
       "      <td>0.328125</td>\n",
       "      <td>0.322917</td>\n",
       "      <td>0.322917</td>\n",
       "      <td>0.197961</td>\n",
       "      <td>17068800</td>\n",
       "    </tr>\n",
       "    <tr>\n",
       "      <th>2</th>\n",
       "      <td>1980-03-19</td>\n",
       "      <td>0.330729</td>\n",
       "      <td>0.335938</td>\n",
       "      <td>0.330729</td>\n",
       "      <td>0.330729</td>\n",
       "      <td>0.202750</td>\n",
       "      <td>18508800</td>\n",
       "    </tr>\n",
       "    <tr>\n",
       "      <th>3</th>\n",
       "      <td>1980-03-20</td>\n",
       "      <td>0.330729</td>\n",
       "      <td>0.334635</td>\n",
       "      <td>0.329427</td>\n",
       "      <td>0.329427</td>\n",
       "      <td>0.201952</td>\n",
       "      <td>11174400</td>\n",
       "    </tr>\n",
       "    <tr>\n",
       "      <th>4</th>\n",
       "      <td>1980-03-21</td>\n",
       "      <td>0.322917</td>\n",
       "      <td>0.322917</td>\n",
       "      <td>0.317708</td>\n",
       "      <td>0.317708</td>\n",
       "      <td>0.194767</td>\n",
       "      <td>12172800</td>\n",
       "    </tr>\n",
       "    <tr>\n",
       "      <th>...</th>\n",
       "      <td>...</td>\n",
       "      <td>...</td>\n",
       "      <td>...</td>\n",
       "      <td>...</td>\n",
       "      <td>...</td>\n",
       "      <td>...</td>\n",
       "      <td>...</td>\n",
       "    </tr>\n",
       "    <tr>\n",
       "      <th>10356</th>\n",
       "      <td>2021-04-13</td>\n",
       "      <td>65.610001</td>\n",
       "      <td>65.629997</td>\n",
       "      <td>64.209999</td>\n",
       "      <td>65.220001</td>\n",
       "      <td>65.220001</td>\n",
       "      <td>26822000</td>\n",
       "    </tr>\n",
       "    <tr>\n",
       "      <th>10357</th>\n",
       "      <td>2021-04-14</td>\n",
       "      <td>65.309998</td>\n",
       "      <td>65.379997</td>\n",
       "      <td>63.840000</td>\n",
       "      <td>64.190002</td>\n",
       "      <td>64.190002</td>\n",
       "      <td>25768400</td>\n",
       "    </tr>\n",
       "    <tr>\n",
       "      <th>10358</th>\n",
       "      <td>2021-04-15</td>\n",
       "      <td>63.970001</td>\n",
       "      <td>65.220001</td>\n",
       "      <td>63.680000</td>\n",
       "      <td>65.019997</td>\n",
       "      <td>65.019997</td>\n",
       "      <td>24927700</td>\n",
       "    </tr>\n",
       "    <tr>\n",
       "      <th>10359</th>\n",
       "      <td>2021-04-16</td>\n",
       "      <td>65.330002</td>\n",
       "      <td>65.519997</td>\n",
       "      <td>64.570000</td>\n",
       "      <td>64.750000</td>\n",
       "      <td>64.750000</td>\n",
       "      <td>24607000</td>\n",
       "    </tr>\n",
       "    <tr>\n",
       "      <th>10360</th>\n",
       "      <td>2021-04-19</td>\n",
       "      <td>64.699997</td>\n",
       "      <td>64.739998</td>\n",
       "      <td>63.070000</td>\n",
       "      <td>63.630001</td>\n",
       "      <td>63.630001</td>\n",
       "      <td>23990400</td>\n",
       "    </tr>\n",
       "  </tbody>\n",
       "</table>\n",
       "<p>10361 rows × 7 columns</p>\n",
       "</div>"
      ],
      "text/plain": [
       "             Date       Open       High        Low      Close  Adj Close  \\\n",
       "0      1980-03-17   0.325521   0.330729   0.325521   0.325521   0.199557   \n",
       "1      1980-03-18   0.325521   0.328125   0.322917   0.322917   0.197961   \n",
       "2      1980-03-19   0.330729   0.335938   0.330729   0.330729   0.202750   \n",
       "3      1980-03-20   0.330729   0.334635   0.329427   0.329427   0.201952   \n",
       "4      1980-03-21   0.322917   0.322917   0.317708   0.317708   0.194767   \n",
       "...           ...        ...        ...        ...        ...        ...   \n",
       "10356  2021-04-13  65.610001  65.629997  64.209999  65.220001  65.220001   \n",
       "10357  2021-04-14  65.309998  65.379997  63.840000  64.190002  64.190002   \n",
       "10358  2021-04-15  63.970001  65.220001  63.680000  65.019997  65.019997   \n",
       "10359  2021-04-16  65.330002  65.519997  64.570000  64.750000  64.750000   \n",
       "10360  2021-04-19  64.699997  64.739998  63.070000  63.630001  63.630001   \n",
       "\n",
       "         Volume  \n",
       "0      10924800  \n",
       "1      17068800  \n",
       "2      18508800  \n",
       "3      11174400  \n",
       "4      12172800  \n",
       "...         ...  \n",
       "10356  26822000  \n",
       "10357  25768400  \n",
       "10358  24927700  \n",
       "10359  24607000  \n",
       "10360  23990400  \n",
       "\n",
       "[10361 rows x 7 columns]"
      ]
     },
     "execution_count": 2,
     "metadata": {},
     "output_type": "execute_result"
    }
   ],
   "source": [
    "data = pd.read_csv('intc.csv')\n",
    "data"
   ]
  },
  {
   "cell_type": "code",
   "execution_count": 3,
   "id": "658c3a79",
   "metadata": {},
   "outputs": [
    {
     "data": {
      "text/plain": [
       "0         0.325521\n",
       "1         0.322917\n",
       "2         0.330729\n",
       "3         0.329427\n",
       "4         0.317708\n",
       "           ...    \n",
       "10356    65.220001\n",
       "10357    64.190002\n",
       "10358    65.019997\n",
       "10359    64.750000\n",
       "10360    63.630001\n",
       "Name: Close, Length: 10361, dtype: float64"
      ]
     },
     "execution_count": 3,
     "metadata": {},
     "output_type": "execute_result"
    }
   ],
   "source": [
    "data['Close']"
   ]
  },
  {
   "cell_type": "code",
   "execution_count": 4,
   "id": "e99688aa",
   "metadata": {},
   "outputs": [],
   "source": [
    "import matplotlib.pyplot as plt"
   ]
  },
  {
   "cell_type": "code",
   "execution_count": null,
   "id": "5f40a8c6",
   "metadata": {},
   "outputs": [],
   "source": []
  },
  {
   "cell_type": "code",
   "execution_count": 11,
   "id": "1670aef8",
   "metadata": {},
   "outputs": [
    {
     "data": {
      "image/png": "[encoded data removed]",
      "text/plain": [
       "<Figure size 1152x432 with 4 Axes>"
      ]
     },
     "metadata": {
      "needs_background": "light"
     },
     "output_type": "display_data"
    }
   ],
   "source": [
    "plt.figure(figsize=(16,6))\n",
    "plt.subplot(2,2,1)\n",
    "plt.plot(data['Date'],data['Close'])\n",
    "plt.subplot(2,2,2)\n",
    "plt.plot(data['Date'],data['Open'])\n",
    "plt.subplot(2,2,3)\n",
    "plt.plot(data['Date'],data['High'])\n",
    "plt.subplot(2,2,4)\n",
    "plt.plot(data['Date'],data['Low'])\n",
    "plt.show()"
   ]
  },
  {
   "cell_type": "code",
   "execution_count": null,
   "id": "a4b8294f",
   "metadata": {},
   "outputs": [],
   "source": []
  },
  {
   "cell_type": "code",
   "execution_count": null,
   "id": "04f28c3c",
   "metadata": {},
   "outputs": [],
   "source": [
    "df = data.iloc[:,1:]\n",
    "df"
   ]
  },
  {
   "cell_type": "code",
   "execution_count": null,
   "id": "8770547e",
   "metadata": {},
   "outputs": [],
   "source": [
    "import seaborn as sns\n",
    "\n",
    "sns.heatmap(df.corr(), annot=True, cmap='RdYlGn', linewidths=0.1, vmin=0)"
   ]
  },
  {
   "cell_type": "code",
   "execution_count": null,
   "id": "ccd9a17a",
   "metadata": {},
   "outputs": [],
   "source": []
  },
  {
   "cell_type": "code",
   "execution_count": null,
   "id": "0c659763",
   "metadata": {},
   "outputs": [],
   "source": []
  },
  {
   "cell_type": "code",
   "execution_count": null,
   "id": "7c7a5cc7",
   "metadata": {},
   "outputs": [],
   "source": []
  },
  {
   "cell_type": "code",
   "execution_count": null,
   "id": "1a94fb5c",
   "metadata": {},
   "outputs": [],
   "source": []
  }
 ],
 "metadata": {
  "kernelspec": {
   "display_name": "Python 3 (ipykernel)",
   "language": "python",
   "name": "python3"
  },
  "language_info": {
   "codemirror_mode": {
    "name": "ipython",
    "version": 3
   },
   "file_extension": ".py",
   "mimetype": "text/x-python",
   "name": "python",
   "nbconvert_exporter": "python",
   "pygments_lexer": "ipython3",
   "version": "3.9.6"
  }
 },
 "nbformat": 4,
 "nbformat_minor": 5
}
